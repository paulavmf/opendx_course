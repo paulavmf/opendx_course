{
 "cells": [
  {
   "cell_type": "code",
   "execution_count": 5,
   "metadata": {
    "collapsed": true
   },
   "outputs": [
    {
     "name": "stdout",
     "output_type": "stream",
     "text": [
      "Requirement already satisfied: dicomweb_client in /home/paula/.local/lib/python3.8/site-packages (0.56.2)\n",
      "Requirement already satisfied: requests>=2.18 in /home/paula/.local/lib/python3.8/site-packages (from dicomweb_client) (2.24.0)\n",
      "Requirement already satisfied: Pillow>=8.3 in /home/paula/.local/lib/python3.8/site-packages (from dicomweb_client) (9.1.1)\n",
      "Requirement already satisfied: pydicom>=2.2 in /home/paula/.local/lib/python3.8/site-packages (from dicomweb_client) (2.3.0)\n",
      "Requirement already satisfied: numpy>=1.19 in /home/paula/.local/lib/python3.8/site-packages (from dicomweb_client) (1.22.4)\n",
      "Requirement already satisfied: retrying>=1.3.3 in /home/paula/.local/lib/python3.8/site-packages (from dicomweb_client) (1.3.3)\n",
      "Requirement already satisfied: idna<3,>=2.5 in /usr/lib/python3/dist-packages (from requests>=2.18->dicomweb_client) (2.8)\n",
      "Requirement already satisfied: certifi>=2017.4.17 in /usr/lib/python3/dist-packages (from requests>=2.18->dicomweb_client) (2019.11.28)\n",
      "Requirement already satisfied: urllib3!=1.25.0,!=1.25.1,<1.26,>=1.21.1 in /home/paula/.local/lib/python3.8/site-packages (from requests>=2.18->dicomweb_client) (1.24.3)\n",
      "Requirement already satisfied: chardet<4,>=3.0.2 in /usr/lib/python3/dist-packages (from requests>=2.18->dicomweb_client) (3.0.4)\n",
      "Requirement already satisfied: six>=1.7.0 in /usr/lib/python3/dist-packages (from retrying>=1.3.3->dicomweb_client) (1.14.0)\n"
     ]
    }
   ],
   "source": [
    "!pip install dicomweb_client"
   ]
  },
  {
   "cell_type": "code",
   "execution_count": 6,
   "metadata": {},
   "outputs": [],
   "source": [
    "from requests.auth import HTTPBasicAuth\n",
    "from dicomweb_client.api import DICOMwebClient\n",
    "from dicomweb_client.session_utils import create_session_from_auth\n",
    "\n",
    "auth = HTTPBasicAuth('user', 'userpass')\n",
    "session = create_session_from_auth(auth)\n",
    "\n",
    "client = DICOMwebClient(\n",
    "    url=\"http://localhost:8042/dicom-web/\",\n",
    "    session=session\n",
    ")\n"
   ]
  },
  {
   "cell_type": "code",
   "execution_count": 7,
   "metadata": {},
   "outputs": [],
   "source": [
    "client.wado_url_prefix"
   ]
  },
  {
   "cell_type": "code",
   "execution_count": 8,
   "metadata": {},
   "outputs": [],
   "source": [
    "studies_subset = client.search_for_studies(limit=100)"
   ]
  },
  {
   "cell_type": "code",
   "execution_count": 10,
   "metadata": {
    "collapsed": true
   },
   "outputs": [
    {
     "data": {
      "text/plain": [
       "[{'00080005': {'Value': ['ISO_IR 100'], 'vr': 'CS'},\n",
       "  '00080020': {'Value': ['19950330'], 'vr': 'DA'},\n",
       "  '00080030': {'Value': ['150829.0000'], 'vr': 'TM'},\n",
       "  '00080050': {'vr': 'SH'},\n",
       "  '00080061': {'Value': ['MR'], 'vr': 'CS'},\n",
       "  '00080090': {'vr': 'PN'},\n",
       "  '00081190': {'Value': ['http://localhost/dicom-web/studies/1.3.46.670589.11.0.1.1996082307380006'],\n",
       "   'vr': 'UR'},\n",
       "  '00100010': {'Value': [{'Alphabetic': 'MR/BRAIN/GRASE/1024'}], 'vr': 'PN'},\n",
       "  '00100020': {'Value': ['7'], 'vr': 'LO'},\n",
       "  '00100030': {'Value': ['19010101'], 'vr': 'DA'},\n",
       "  '00100040': {'Value': ['M'], 'vr': 'CS'},\n",
       "  '0020000D': {'Value': ['1.3.46.670589.11.0.1.1996082307380006'], 'vr': 'UI'},\n",
       "  '00200010': {'Value': [' 191'], 'vr': 'SH'},\n",
       "  '00201206': {'Value': [1], 'vr': 'IS'},\n",
       "  '00201208': {'Value': [1], 'vr': 'IS'}}]"
      ]
     },
     "execution_count": 10,
     "metadata": {},
     "output_type": "execute_result"
    }
   ],
   "source": [
    "studies_subset"
   ]
  },
  {
   "cell_type": "code",
   "execution_count": null,
   "metadata": {},
   "outputs": [],
   "source": []
  }
 ],
 "metadata": {
  "kernelspec": {
   "display_name": "ds",
   "language": "python",
   "name": "ds"
  },
  "language_info": {
   "codemirror_mode": {
    "name": "ipython",
    "version": 3
   },
   "file_extension": ".py",
   "mimetype": "text/x-python",
   "name": "python",
   "nbconvert_exporter": "python",
   "pygments_lexer": "ipython3",
   "version": "3.8.3"
  }
 },
 "nbformat": 4,
 "nbformat_minor": 4
}
